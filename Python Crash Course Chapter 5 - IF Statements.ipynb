{
 "cells": [
  {
   "cell_type": "markdown",
   "metadata": {},
   "source": [
    "# IF Statements"
   ]
  },
  {
   "cell_type": "code",
   "execution_count": 1,
   "metadata": {},
   "outputs": [
    {
     "name": "stdout",
     "output_type": "stream",
     "text": [
      "Audi\n",
      "BMW\n",
      "Subaru\n",
      "Toyota\n"
     ]
    }
   ],
   "source": [
    "cars = ['audi', 'bmw', 'subaru', 'toyota']\n",
    "for car in cars:\n",
    "    if car == 'bmw':\n",
    "        print (car.upper())\n",
    "    else:\n",
    "        print (car.title())"
   ]
  },
  {
   "cell_type": "code",
   "execution_count": 2,
   "metadata": {},
   "outputs": [
    {
     "data": {
      "text/plain": [
       "False"
      ]
     },
     "execution_count": 2,
     "metadata": {},
     "output_type": "execute_result"
    }
   ],
   "source": [
    "car = 'audi'\n",
    "car == 'bmw'"
   ]
  },
  {
   "cell_type": "code",
   "execution_count": 3,
   "metadata": {},
   "outputs": [
    {
     "name": "stdout",
     "output_type": "stream",
     "text": [
      "Hold the anchovies\n"
     ]
    }
   ],
   "source": [
    "requested_topping = 'mushrooms'\n",
    "\n",
    "if requested_topping != 'anchovies':\n",
    "    print ('Hold the anchovies')"
   ]
  },
  {
   "cell_type": "code",
   "execution_count": 5,
   "metadata": {},
   "outputs": [
    {
     "data": {
      "text/plain": [
       "True"
      ]
     },
     "execution_count": 5,
     "metadata": {},
     "output_type": "execute_result"
    }
   ],
   "source": [
    "requested_toppings = ['a', 'b', 'c', 'd']\n",
    "'a' in requested_toppings"
   ]
  },
  {
   "cell_type": "code",
   "execution_count": 6,
   "metadata": {},
   "outputs": [
    {
     "data": {
      "text/plain": [
       "False"
      ]
     },
     "execution_count": 6,
     "metadata": {},
     "output_type": "execute_result"
    }
   ],
   "source": [
    "'f' in requested_toppings"
   ]
  },
  {
   "cell_type": "code",
   "execution_count": 7,
   "metadata": {},
   "outputs": [
    {
     "name": "stdout",
     "output_type": "stream",
     "text": [
      "Not Present\n"
     ]
    }
   ],
   "source": [
    "if 'f' not in requested_toppings:\n",
    "    print ('Not Present')"
   ]
  },
  {
   "cell_type": "code",
   "execution_count": 9,
   "metadata": {},
   "outputs": [
    {
     "name": "stdout",
     "output_type": "stream",
     "text": [
      "Your admisstion cost is $5.0\n"
     ]
    }
   ],
   "source": [
    "age = 12\n",
    "\n",
    "if age < 4:\n",
    "    print (\"Your admission cost is $0.0\")\n",
    "elif age <18:\n",
    "    print (\"Your admisstion cost is $5.0\")\n",
    "else:\n",
    "    print (\"Your admission cost is $10.0\")"
   ]
  },
  {
   "cell_type": "code",
   "execution_count": 15,
   "metadata": {},
   "outputs": [
    {
     "name": "stdout",
     "output_type": "stream",
     "text": [
      "Are you sure you want a plain pizza\n"
     ]
    }
   ],
   "source": [
    "requested_toppings = []\n",
    "#requested_toppings = ['extra cheese']\n",
    "if requested_toppings:\n",
    "    for requested_topping in requested_toppings:\n",
    "        print (\"Adding \" + requested_topping + \".\")\n",
    "    print (\"\\nFinished making your pizza\")\n",
    "else:\n",
    "    print (\"Are you sure you want a plain pizza\")"
   ]
  },
  {
   "cell_type": "code",
   "execution_count": 20,
   "metadata": {},
   "outputs": [
    {
     "name": "stdout",
     "output_type": "stream",
     "text": [
      "We need some users!\n"
     ]
    }
   ],
   "source": [
    "#usernames = ['john', 'doe', 'admin', 'jane', 'dill']\n",
    "usernames = []\n",
    "\n",
    "if usernames:\n",
    "    for username in usernames:\n",
    "        if username == 'admin':\n",
    "            print ('Hello admin, would you like to see a status report?')\n",
    "        else:\n",
    "            print (\"Hello \" + username + \", thank you for logging in again\")\n",
    "else:\n",
    "    print (\"We need some users!\")"
   ]
  },
  {
   "cell_type": "code",
   "execution_count": null,
   "metadata": {
    "collapsed": true
   },
   "outputs": [],
   "source": []
  }
 ],
 "metadata": {
  "anaconda-cloud": {},
  "kernelspec": {
   "display_name": "Python [Root]",
   "language": "python",
   "name": "Python [Root]"
  },
  "language_info": {
   "codemirror_mode": {
    "name": "ipython",
    "version": 3
   },
   "file_extension": ".py",
   "mimetype": "text/x-python",
   "name": "python",
   "nbconvert_exporter": "python",
   "pygments_lexer": "ipython3",
   "version": "3.5.2"
  }
 },
 "nbformat": 4,
 "nbformat_minor": 1
}
